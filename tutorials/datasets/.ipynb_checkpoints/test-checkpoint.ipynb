{
 "cells": [
  {
   "cell_type": "markdown",
   "metadata": {},
   "source": [
    "# Create a Dataset from scratch and run it"
   ]
  },
  {
   "cell_type": "markdown",
   "metadata": {},
   "source": [
    "We want to create a project that contains all the jobs to calculate the Silicon band structure with PBE. To set up the input we will use the scheme in the `CalculationSchemes` class."
   ]
  },
  {
   "cell_type": "code",
   "execution_count": 1,
   "metadata": {},
   "outputs": [],
   "source": [
    "# import packages\n",
    "from pynter.data.datasets import Dataset\n",
    "from pynter.tools.materials_project import MPDatabase\n",
    "from pynter.vasp.calculation_schemes import CalculationSchemes"
   ]
  },
  {
   "cell_type": "code",
   "execution_count": 2,
   "metadata": {},
   "outputs": [
    {
     "name": "stdout",
     "output_type": "stream",
     "text": [
      "create job for step 1-PBE-SCF\n",
      "create job for step 2-PBE-DOS\n",
      "create job for step 3-PBE-BS\n"
     ]
    },
    {
     "name": "stderr",
     "output_type": "stream",
     "text": [
      "/home/lorenzo/anaconda3/lib/python3.7/site-packages/pymatgen/symmetry/bandstructure.py:63: UserWarning: The input structure does not match the expected standard primitive! The path can be incorrect. Use at your own risk.\n",
      "  warnings.warn(\"The input structure does not match the expected standard primitive! \"\n"
     ]
    }
   ],
   "source": [
    "# define the project path - customize with your path\n",
    "project_path = '/home/lorenzo/tests/project-test/tutorials/Si-BS-dataset-test'\n",
    "\n",
    "#initialize dataset\n",
    "ds = Dataset(path=project_path)\n",
    "\n",
    "# get structure of FCC Si from Materials Project\n",
    "structure = MPDatabase(mp_id='mp-149').get_structure()\n",
    "\n",
    "# Adapt job settings for a smaller job\n",
    "job_settings = {'nodes':1,'timelimit':'00:30:00'}\n",
    "\n",
    "cs = CalculationSchemes(structure,job_settings=job_settings,name='Si-BS')\n",
    "scheme = cs.pbe_electronic_structure()\n",
    "\n",
    "for step in scheme.steps:\n",
    "    \n",
    "    inputs = scheme.get_vaspinput(step)\n",
    "    job_settings = scheme.get_job_settings(step)\n",
    "    print(f'create job for step {step}')\n",
    "    ds.create_job('VaspJob',group=step,inputs=inputs,job_settings=job_settings)\n",
    "    "
   ]
  },
  {
   "cell_type": "code",
   "execution_count": 3,
   "metadata": {},
   "outputs": [
    {
     "data": {
      "text/html": [
       "<div>\n",
       "<style scoped>\n",
       "    .dataframe tbody tr th:only-of-type {\n",
       "        vertical-align: middle;\n",
       "    }\n",
       "\n",
       "    .dataframe tbody tr th {\n",
       "        vertical-align: top;\n",
       "    }\n",
       "\n",
       "    .dataframe thead th {\n",
       "        text-align: right;\n",
       "    }\n",
       "</style>\n",
       "<table border=\"1\" class=\"dataframe\">\n",
       "  <thead>\n",
       "    <tr style=\"text-align: right;\">\n",
       "      <th></th>\n",
       "      <th>formula</th>\n",
       "      <th>group</th>\n",
       "      <th>nodes</th>\n",
       "      <th>is_converged</th>\n",
       "    </tr>\n",
       "    <tr>\n",
       "      <th>job_name</th>\n",
       "      <th></th>\n",
       "      <th></th>\n",
       "      <th></th>\n",
       "      <th></th>\n",
       "    </tr>\n",
       "  </thead>\n",
       "  <tbody>\n",
       "    <tr>\n",
       "      <th>Si-BS_PBE-el-str_1</th>\n",
       "      <td>Si2</td>\n",
       "      <td>1-PBE-SCF</td>\n",
       "      <td></td>\n",
       "      <td>None</td>\n",
       "    </tr>\n",
       "    <tr>\n",
       "      <th>Si-BS_PBE-el-str_2</th>\n",
       "      <td>Si2</td>\n",
       "      <td>2-PBE-DOS</td>\n",
       "      <td></td>\n",
       "      <td>None</td>\n",
       "    </tr>\n",
       "    <tr>\n",
       "      <th>Si-BS_PBE-el-str_3</th>\n",
       "      <td>Si2</td>\n",
       "      <td>3-PBE-BS</td>\n",
       "      <td></td>\n",
       "      <td>None</td>\n",
       "    </tr>\n",
       "  </tbody>\n",
       "</table>\n",
       "</div>"
      ],
      "text/plain": [
       "                   formula      group nodes is_converged\n",
       "job_name                                                \n",
       "Si-BS_PBE-el-str_1     Si2  1-PBE-SCF               None\n",
       "Si-BS_PBE-el-str_2     Si2  2-PBE-DOS               None\n",
       "Si-BS_PBE-el-str_3     Si2   3-PBE-BS               None"
      ]
     },
     "execution_count": 3,
     "metadata": {},
     "output_type": "execute_result"
    }
   ],
   "source": [
    "# visualize job table\n",
    "ds.jobs_table()"
   ]
  },
  {
   "cell_type": "code",
   "execution_count": 4,
   "metadata": {},
   "outputs": [
    {
     "name": "stdout",
     "output_type": "stream",
     "text": [
      "Job \"Si-BS_PBE-el-str_1\" of group \"1-PBE-SCF\"\n"
     ]
    }
   ],
   "source": [
    "# get first step job\n",
    "job_first_step = ds.select_jobs(groups=['1-PBE-SCF'])\n",
    "# alternatively\n",
    "#job_first_step = ds.jobs[0]\n",
    "print(job_first_step)"
   ]
  },
  {
   "cell_type": "code",
   "execution_count": 5,
   "metadata": {},
   "outputs": [
    {
     "data": {
      "text/plain": [
       "{'INCAR': {'IBRION': 2,\n",
       "  'NSW': 0,\n",
       "  'ISIF': 2,\n",
       "  'EDIFFG': -0.05,\n",
       "  'ISPIN': 1,\n",
       "  'LWAVE': '.TRUE.',\n",
       "  'LCHARG': '.TRUE.',\n",
       "  'LORBIT': 10,\n",
       "  'ENCUT': 500,\n",
       "  'EDIFF': 1e-06,\n",
       "  'ISMEAR': 0,\n",
       "  'SIGMA': 0.05,\n",
       "  'ALGO': 'Normal',\n",
       "  'AMIX': 0.2,\n",
       "  'LREAL': '.FALSE.',\n",
       "  '#### Default PBE: system': 'Si',\n",
       "  'ISYM': 2},\n",
       " 'KPOINTS': pymatgen 4.7.6+ generated KPOINTS with grid density = 1000 / atom\n",
       " 0\n",
       " Gamma\n",
       " 8 8 8,\n",
       " 'POSCAR': Si2\n",
       " 1.0\n",
       " 3.325489 0.000000 1.919972\n",
       " 1.108496 3.135301 1.919972\n",
       " 0.000000 0.000000 3.839943\n",
       " Si\n",
       " 2\n",
       " direct\n",
       " 0.875000 0.875000 0.875000 Si\n",
       " 0.125000 0.125000 0.125000 Si,\n",
       " 'POTCAR': [<pymatgen.io.vasp.inputs.PotcarSingle at 0x7fbd25999710>]}"
      ]
     },
     "execution_count": 5,
     "metadata": {},
     "output_type": "execute_result"
    }
   ],
   "source": [
    "# check job inputs\n",
    "job_first_step.inputs"
   ]
  },
  {
   "cell_type": "code",
   "execution_count": 6,
   "metadata": {},
   "outputs": [],
   "source": [
    "# write input to files\n",
    "ds.write_jobs_input()"
   ]
  },
  {
   "cell_type": "code",
   "execution_count": 7,
   "metadata": {},
   "outputs": [],
   "source": [
    "# sync Dataset folder with HPC to transfer all the files before starting calculations\n",
    "# In order for the automations to work all files need to be present in HPC\n",
    "#ds.sync_dataset_to_hpc()"
   ]
  },
  {
   "cell_type": "markdown",
   "metadata": {},
   "source": [
    "Now that we created the Jobs and synced the files we can start the calculations. \n",
    "In this case we need to start the calculation of the first step, the others are automated."
   ]
  },
  {
   "cell_type": "code",
   "execution_count": 9,
   "metadata": {},
   "outputs": [
    {
     "name": "stdout",
     "output_type": "stream",
     "text": [
      "\n",
      "rsync -r -uavzh -e ssh lv51dypu@lcluster7.hrz.tu-darmstadt.de:/work/scratch/lv51dypu/tutorials/Si-BS-dataset-test/ /home/lorenzo/tests/project-test/tutorials/Si-BS-dataset-test/ \n",
      "receiving incremental file list\n",
      "\n",
      "sent 23 bytes  received 444 bytes  133.43 bytes/sec\n",
      "total size is 590.43K  speedup is 1,264.30\n",
      "\n"
     ]
    }
   ],
   "source": [
    "ds.sync_dataset_from_hpc()"
   ]
  },
  {
   "cell_type": "code",
   "execution_count": 14,
   "metadata": {},
   "outputs": [
    {
     "name": "stdout",
     "output_type": "stream",
     "text": [
      "rsync -r -uavzh -e ssh  /home/lorenzo/tests/project-test/tutorials/Si-BS-dataset-test/1-PBE-SCF/ lv51dypu@lcluster7.hrz.tu-darmstadt.de:/work/scratch/lv51dypu/tutorials/Si-BS-dataset-test/1-PBE-SCF/ \n",
      "sending incremental file list\n",
      "./\n",
      "INCAR\n",
      "KPOINTS\n",
      "POSCAR\n",
      "POTCAR\n",
      "job.sh\n",
      "\n",
      "sent 72.54K bytes  received 114 bytes  20.76K bytes/sec\n",
      "total size is 196.69K  speedup is 2.71\n",
      "\n"
     ]
    }
   ],
   "source": [
    "j = ds.jobs[0]\n",
    "j.sync_to_hpc()"
   ]
  }
 ],
 "metadata": {
  "kernelspec": {
   "display_name": "Python 3",
   "language": "python",
   "name": "python3"
  },
  "language_info": {
   "codemirror_mode": {
    "name": "ipython",
    "version": 3
   },
   "file_extension": ".py",
   "mimetype": "text/x-python",
   "name": "python",
   "nbconvert_exporter": "python",
   "pygments_lexer": "ipython3",
   "version": "3.7.6"
  }
 },
 "nbformat": 4,
 "nbformat_minor": 4
}
